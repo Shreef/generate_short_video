{
 "cells": [
  {
   "attachments": {},
   "cell_type": "markdown",
   "metadata": {},
   "source": [
    "# Start\n",
    "\n",
    "## Tools\n",
    "- brew install pyenv\n",
    "- brew install git-lfs\n",
    "\n",
    "## Models\n",
    "- git lfs clone {model-link} models\n",
    "- cd models\n",
    "- git lfs install\n",
    "- git lfs pull\n",
    "\n",
    "## Enviroment\n",
    "- pyenv install 2.10.11\n",
    "- pyenv local 3.10.11\n",
    "- python -m venv venv\n",
    "- source venv/bin/activate\n"
   ]
  }
 ],
 "metadata": {
  "kernelspec": {
   "display_name": "venv",
   "language": "python",
   "name": "python3"
  },
  "language_info": {
   "codemirror_mode": {
    "name": "ipython",
    "version": 3
   },
   "file_extension": ".py",
   "mimetype": "text/x-python",
   "name": "python",
   "nbconvert_exporter": "python",
   "pygments_lexer": "ipython3",
   "version": "3.10.11"
  },
  "orig_nbformat": 4
 },
 "nbformat": 4,
 "nbformat_minor": 2
}
