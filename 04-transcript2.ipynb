{
 "cells": [
  {
   "cell_type": "code",
   "execution_count": null,
   "metadata": {},
   "outputs": [],
   "source": [
    "%pip install torch\n",
    "%pip install librosa\n",
    "%pip install transformers"
   ]
  },
  {
   "cell_type": "code",
   "execution_count": 1,
   "metadata": {},
   "outputs": [
    {
     "name": "stderr",
     "output_type": "stream",
     "text": [
      "/Users/kareem/projects/videoxt/venv/lib/python3.10/site-packages/tqdm/auto.py:21: TqdmWarning: IProgress not found. Please update jupyter and ipywidgets. See https://ipywidgets.readthedocs.io/en/stable/user_install.html\n",
      "  from .autonotebook import tqdm as notebook_tqdm\n",
      "/Users/kareem/projects/videoxt/venv/lib/python3.10/site-packages/transformers/configuration_utils.py:380: UserWarning: Passing `gradient_checkpointing` to a config initialization is deprecated and will be removed in v5 Transformers. Using `model.gradient_checkpointing_enable()` instead, or if you are using the `Trainer` API, pass `gradient_checkpointing=True` in your `TrainingArguments`.\n",
      "  warnings.warn(\n"
     ]
    },
    {
     "name": "stdout",
     "output_type": "stream",
     "text": [
      "['هألهرضغمعكلمك همة خمس كنوات البودكاس تتتفرغ ليهم أو تسمعوم على اليتيو والبكاستغع غاد مهم غداً للفتر الأخيرد وهيفدا جد فحياتك ان الحاتكغيرتمم وأبل مبدأ الفد متشصل عنابوتامن اللي كتنزةشرك فيكراد وتحالم انز الشلفر ولم جعرف هو البودكاستكمع البودكاسداو انبتعبورة عن حيات مسموعا ونتأكانك باتسمع كتيب أو فر مسل على حغ معيانة بس ل الفكر بة ما تتفرغ لا أنتتسمع عملةيرادي بالزوتسمع بودكاسمو فموسلوتوتمكين نت أتمسنتمشفود فين  تتير حاغة  تتتفرغ ع لحاغة أفضل تتسمع البوتكاستمسةحت الهن دفرفودان كدتسمع فيمة سنت تلن المشغورة النتريح سنلواتكيان أو البودكاستمعانا هو بوكاست أحمة بزيدتبع اغنن التعريف ويهية ندر ولين مبوزديك مع بعم البوكاسفتروت كل فتركةبنت البودكاسشاكلو اد حات مهمة غدا لنه بغشخصيوت حن بنحبن يتفرغ عليه وبزينك و أو ازيكستهم وسلو للومة في ل خذ بكادخبرتمن مهمة كداً وتدر تستفيد بيها م غبنس كتير غدا مهمين غد نو غدن بع شئننا دفرغ ليهم تبع منه سمنسنت الزير تبع الغن ن تريفة كلما هو مهتمدلمغان البرمودة أكيدهو عر الكويسغدا منهو بشمنمزيروحمت سر التعندي لسبر بارض علم حمدة علي صاحكا وتعلم حملة عل بلخ حة اكتيرد الكلطعة رواعيندخشفهحتاغبكم غد برد دان بودكاستمعانا هو بودكاسس دودشورغي لبدكاسداغمع مهمد يخذ مواديع كتير غدة مهمةكدغع رهيبة عندبرض وكتز كتب فالن لمبلايء ولعدة الزرية كتبغمع غددركم واحد لتتحداف أسياتك نتتهتم بها ولاتدرقتب كثير ولاتتسمع كتب ولزم تخشب دف مودوع كتبداء أكسم بنبغد فيعات مهمة دا من بوداستمعانا هو بودكست وجورا لبن الخميس  ودابود كاستكمع مهم غدا غدا ولزنم بنتسمع حلوت د إن الحابتعتختواتاكتير خولز هن بكتيروأت لشرندية شردية كيف وات الر  تتعسمعهتنفمودعكتيرغدة مهمة من دمنها إننتزيتحل مشكلتتزيت بتفكرتفكيرسليم ورزيتك حككتيرغدة مهمة لتم غدنتتسمع بودكاستبتاع مالغدوبع بودكاستمعنا هو بودكاست فنغين طبعن اغننلتعريف مشهور غدا  دا لعد الرحمن بد كاس فنان لمشفحاغة عيانبلسبكانفمودع كتير غدا غد غد مهمة تفركتيردنتتسمعهاد سف البكااستتاعهم وسمعوها تفر معكغدنخامز بود استمان ودان  أخير وهو بوتكاستواعي ادم أحمل عامر وحزم السديكشريف  داسدة ونهدفول هو ببسة المعلومات الدنيةابسد ت لوسمةتبكاده تستفد مع نومتكترغد الرهيبة وتفر معككتر فحيكواتلأحلى أكتير غد من همه مكتلا علىأزيماهلسلة طبعا واتباتهب حياتناه أتل أمودعكتر غد همة و تفر مع كجدا  كانا الكلخلاستمودوع النهرض والكونلمن عن أهم مس كنولبوتكاستمكن فيدوكوي فرو مع د فتكم غادك مع البدك كل تين سمع فيها دغيرم الحيك موتمنين درغو  يرأ يكفي المتاج حكة الحو سطور  تنلواكتيربأمن وبرد لوعكلفيد وتسجتمن الوكت وسنوفيتجان شوله سلم']\n"
     ]
    }
   ],
   "source": [
    "import torch\n",
    "import librosa\n",
    "from transformers import Wav2Vec2ForCTC, Wav2Vec2Processor\n",
    "\n",
    "LANG_ID = \"ar\"\n",
    "MODEL_ID = \"./models/wav2vec2-large-xlsr-53-arabic\"\n",
    "SAMPLES = 10\n",
    "\n",
    "processor = Wav2Vec2Processor.from_pretrained(MODEL_ID)\n",
    "model = Wav2Vec2ForCTC.from_pretrained(MODEL_ID)\n",
    "\n",
    "waveform, sample_rate = librosa.load(\"./downloads/segments/0.wav\", sr=None)\n",
    "inputs = processor(waveform, sampling_rate=16_000, return_tensors=\"pt\", padding=True)\n",
    "\n",
    "with torch.no_grad():\n",
    "    logits = model(inputs.input_values, attention_mask=inputs.attention_mask).logits\n",
    "\n",
    "predicted_ids = torch.argmax(logits, dim=-1)\n",
    "predicted_sentences = processor.batch_decode(predicted_ids)\n",
    "\n",
    "print(predicted_sentences)\n"
   ]
  }
 ],
 "metadata": {
  "kernelspec": {
   "display_name": "venv",
   "language": "python",
   "name": "python3"
  },
  "language_info": {
   "codemirror_mode": {
    "name": "ipython",
    "version": 3
   },
   "file_extension": ".py",
   "mimetype": "text/x-python",
   "name": "python",
   "nbconvert_exporter": "python",
   "pygments_lexer": "ipython3",
   "version": "3.10.11"
  },
  "orig_nbformat": 4
 },
 "nbformat": 4,
 "nbformat_minor": 2
}
