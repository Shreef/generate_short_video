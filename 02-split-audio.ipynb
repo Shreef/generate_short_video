{
 "cells": [
  {
   "cell_type": "code",
   "execution_count": null,
   "metadata": {},
   "outputs": [],
   "source": [
    "%pip install pydub"
   ]
  },
  {
   "cell_type": "code",
   "execution_count": 1,
   "metadata": {},
   "outputs": [],
   "source": [
    "from pydub import AudioSegment\n",
    "from pydub.silence import split_on_silence\n",
    "\n",
    "audio = AudioSegment.from_wav(\"./downloads/audio.wav\")\n",
    "\n",
    "chunk_length = 25 * 1000\n",
    "silence_length = 1000\n",
    "silence_thresh = -40\n",
    "\n",
    "chunks = split_on_silence(audio, min_silence_len=silence_length, silence_thresh=silence_thresh)\n",
    "\n",
    "concatenated_chunk = chunks[0]\n",
    "output_chunks = []\n",
    "\n",
    "for i in range(1, len(chunks)):\n",
    "    if len(concatenated_chunk) + len(chunks[i]) <= chunk_length:\n",
    "        concatenated_chunk += chunks[i]\n",
    "    else:\n",
    "        output_chunks.append(concatenated_chunk)\n",
    "        concatenated_chunk = chunks[i]\n",
    "\n",
    "output_chunks.append(concatenated_chunk)\n",
    "\n",
    "for i, chunk in enumerate(output_chunks):\n",
    "    chunk.export(f\"downloads/segments/{i}.wav\", format=\"wav\")\n"
   ]
  }
 ],
 "metadata": {
  "kernelspec": {
   "display_name": "venv",
   "language": "python",
   "name": "python3"
  },
  "language_info": {
   "codemirror_mode": {
    "name": "ipython",
    "version": 3
   },
   "file_extension": ".py",
   "mimetype": "text/x-python",
   "name": "python",
   "nbconvert_exporter": "python",
   "pygments_lexer": "ipython3",
   "version": "3.10.11"
  },
  "orig_nbformat": 4
 },
 "nbformat": 4,
 "nbformat_minor": 2
}
