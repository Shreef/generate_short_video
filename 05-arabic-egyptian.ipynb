{
 "cells": [
  {
   "cell_type": "code",
   "execution_count": 1,
   "metadata": {},
   "outputs": [
    {
     "name": "stderr",
     "output_type": "stream",
     "text": [
      "/Users/kareem/projects/videoxt/venv/lib/python3.10/site-packages/tqdm/auto.py:21: TqdmWarning: IProgress not found. Please update jupyter and ipywidgets. See https://ipywidgets.readthedocs.io/en/stable/user_install.html\n",
      "  from .autonotebook import tqdm as notebook_tqdm\n",
      "/Users/kareem/projects/videoxt/venv/lib/python3.10/site-packages/transformers/configuration_utils.py:380: UserWarning: Passing `gradient_checkpointing` to a config initialization is deprecated and will be removed in v5 Transformers. Using `model.gradient_checkpointing_enable()` instead, or if you are using the `Trainer` API, pass `gradient_checkpointing=True` in your `TrainingArguments`.\n",
      "  warnings.warn(\n",
      "Special tokens have been added in the vocabulary, make sure the associated word embeddings are fine-tuned or trained.\n"
     ]
    },
    {
     "name": "stdout",
     "output_type": "stream",
     "text": [
      "Prediction: ['النهارده جماعها كالمكو في أهم خمص كنوات بوت كاس تتتفراجه عليهم أوتسمعهم على ليوتيب والبوت كاس ت جماعة بجد مهم جدا إالفترة الأخيرة د وهيفيدا ت جدا في حياتك وفعنا حياتك هتتغير تماما  وقبل ما بدأ الفيديو اتتس صال لع الناب وتعمل لايق تنزل تشر في الكرادي الوقتي حلا إنزل الشيرك في الكناط  ول مش عارف إيه هو البو كاس تجمعا البوتكس دوا بتبقىعبارة عن حاجات مصموعة اللي هو إنت أكنك بلتسمع الكتاب أو وفرج مثل على حاجة معينة بس الفكرة د ماتتفرج عليها إنت تسمع عامل زي الردي والظبط كبتسمع البو كت بإنت في المواصلوا  ونت في مكان وإنتىوقت مسلا إنتى مش فاضي في إن إنت هت أرحاجة أو إننت تتفرج على حاجة أفضل إن إنت تتتسمع البوت كاسن مثلا تحط الهند فريف ودانك ود ردل تسمعة في مثلا طول المشوارة الي إنتي رايحا يثنلي وقتك يعني أول بوت كاست معانا هو بوت كاست أحم دةبوزيض طبعا غان عني التعريف وهي كونات دروز قللاين مادبوزيد يا جما بيعمل بوت كاستفي فتارات كل فترة كده بي نازل بوت كاس تشكل وبجد حاات مهمة جدا الإن هو بي جيبشخصيات إحنا بحب إن إحنا يتفرج عليها وبجبنك إزاي نك هو أو اإزاي كلستهم وثله الي هم فيه إزاي ياخد بجد خبرات من ه  مهمة جدا وبتدر إن إنت تستفيد بيها مع الوقت جاب ناس كتير جدا مهميك جدا في الكنوب جدا نبع شان إن أنا أتفرج عليهم طبعا منهم مش مهندس أسنة لزير وده طبعا غاني يعن التعيفة أكي ل ما إ هو مهتمد مجان البرماجة أكيد هو عارف كويس جدا مين هو ابشمهاند قوسمة إزير وإحمد صبري بتاعكوانات دي لصب ي برض عالي محمد علي صحي ب كونات عاليه محمد علي اللي كان بي بينا خاص حاجات كتير جدا وبجد الكنات بتعته روع يعني ممكن تخش شوفوها هتعجبكم جدا برضه تاني بوت كاس ت معانا هو بوتكاس تس دوت شوار ي والبوت كاس ديا جماعة مهم جدا وبياخد مواضيها لكتير جدا مهمة خسات القت البتاعته بجدة ياجماعا لرهيبة عنده برد وكتاب يكتب فن اللمبلا ولعدت الزرية الح كنتوا بياجماعة بجد رقم واحد نازم تحتفعة السياتك إن إنت هتهتم بيها ولازم ترقته بكتير ونازم تسمع قت ولازم تخش بجد في موضوع لقت بده أكسم بناب جد في إهحاجات مهمة جدا فوق ما إنت تتخي ت بوت كاست معانا هو بوت كاست أبجورةا لهبنا الخميس وده بوت كاست جماعة مهم جدا جدا ولازم بجدإننتسمعوه حلوتبجد إن الحلقات بتاعته ما بتخد شوقت كتير خالظ يعني بكتير وهت ليها يشرين دي أو خمصشر ديافة في ممكن في أوقات الفراغ إن ت تقت سمع هم تتكانم في لموضيها كتير جدا مهمة من ضنها إن إنت زي تحل مشكلاتك ن إنتى إزاي ت بتفقر تفكير سليم أطور زياتك حاجات كتير جدا مهمة لازم بجداإنإنت تسمعا البوت كاستبتاع الجميل جدا وبيع بوت كاست معانا هو بوتكاس تفنجان طبعا غني يعني التعريف ومشهور جدا جدا جدا لعبد الرحمنا بمالح مبوت كاس في إنجانمة بيتكلمش ي حاجة معينا بس بتكلم في مويعة كتير جدا جدا جدا مهمة وهتفرق كتير جدا إنإنت تسمعها فبجد شوف البوت كاس تبتاعهم وإسمعو هتفرق معاكو جدا وخامس بوت كاست معانا ودها أخير وهو بوتكاسوعي ه بيقدمأحمد عامر وحزم السدتيك واشريف عليوت كاس ده وأن هدففون هو بيبصت المعلومات الدينية بأبسة طرق ممكنة وولوس ماتوب كد هتستفاده مع همات كتير جد الرهيبة وهتفرق معاكوا كتير جدا في حلاتكو أتلاقو حعلقات كتير جدا ومن أهماها ممكن تلاعح لقات زي ما هو القرا الصلا طبعا وارتبتهاب حاياتني هتلاء موضيت كتير جدا مهمة وهتفرق معاكو جدا  كده القون خلاصتموضوع النهارده وإنتكون تكلمنا عنى أهم خمص كنوات بوت كاس ممكن يفدوك ويفرقو معاتك جا في ياتك وبجد جمعا بوتكاس دي كل اتبفدين نسمعه فيها أتغير من حالاكوا مية وتمانين درجة ويعني إيه رأيكم في المنتاج والحاجات الحودي بجد مستاط ور وديم بلكوم يعني فيه حبشتكانات كده حل وكتير بأمانة بمانة والله وبرضه العاجابك وفدي ومتستشتمل لمو تترسوف قمإسطن ال يتيواتالجان شاء الله سلا']\n"
     ]
    }
   ],
   "source": [
    "import torch\n",
    "import torchaudio\n",
    "import librosa\n",
    "from transformers import Wav2Vec2ForCTC, Wav2Vec2Processor\n",
    "\n",
    "\n",
    "processor = Wav2Vec2Processor.from_pretrained(\"./models/wav2vec2-large-xlsr-53-arabic-egyptian\")\n",
    "model = Wav2Vec2ForCTC.from_pretrained(\"./models/wav2vec2-large-xlsr-53-arabic-egyptian\")\n",
    "\n",
    "resampler = torchaudio.transforms.Resample(16_000, 16_000)\n",
    "\n",
    "# Preprocessing the datasets.\n",
    "# We need to read the aduio files as arrays\n",
    "# def speech_file_to_array_fn(name):\n",
    "#     speech_array = torchaudio.load(name)\n",
    "#     return resampler(speech_array).squeeze().numpy()\n",
    "  \n",
    "# audiofile = speech_file_to_array_fn(\"./downloads/segments/2.wav\")\n",
    "waveform, sample_rate = librosa.load(\"./downloads/segments/0.wav\", sr=None)\n",
    "inputs = processor(waveform, sampling_rate=16_000, return_tensors=\"pt\", padding=True)\n",
    "\n",
    "with torch.no_grad():\n",
    "    logits = model(inputs.input_values, attention_mask=inputs.attention_mask).logits\n",
    "\n",
    "predicted_ids = torch.argmax(logits, dim=-1)\n",
    "print(\"Prediction:\", processor.batch_decode(predicted_ids))\n"
   ]
  }
 ],
 "metadata": {
  "kernelspec": {
   "display_name": "venv",
   "language": "python",
   "name": "python3"
  },
  "language_info": {
   "codemirror_mode": {
    "name": "ipython",
    "version": 3
   },
   "file_extension": ".py",
   "mimetype": "text/x-python",
   "name": "python",
   "nbconvert_exporter": "python",
   "pygments_lexer": "ipython3",
   "version": "3.10.11"
  },
  "orig_nbformat": 4
 },
 "nbformat": 4,
 "nbformat_minor": 2
}
