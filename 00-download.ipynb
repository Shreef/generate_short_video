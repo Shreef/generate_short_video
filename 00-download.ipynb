{
 "cells": [
  {
   "cell_type": "code",
   "execution_count": null,
   "metadata": {},
   "outputs": [],
   "source": [
    "%pip install yt_dlp"
   ]
  },
  {
   "cell_type": "code",
   "execution_count": null,
   "metadata": {},
   "outputs": [],
   "source": [
    "import os\n",
    "import yt_dlp\n",
    "import shutil\n",
    "\n",
    "download_path = \"media\"\n",
    "\n",
    "if os.path.exists(download_path):\n",
    "    shutil.rmtree(download_path)\n",
    "os.mkdir(download_path)\n",
    "\n",
    "# video_url = input(\"youtube URL: \")\n",
    "# video_url = \"https://www.youtube.com/watch?v=E-f5JLf4neA\" # adeeb\n",
    "# video_url = \"https://www.youtube.com/watch?v=P-LG6cM4E9g\" # shazly\n",
    "video_url = \"https://www.youtube.com/watch?v=eTjGMbqI5IE&t=234s\" # fadl\n",
    "\n",
    "yt_dpl_option = {\n",
    "    \"format\": \"best\",\n",
    "    \"paths\": {\"home\": download_path},\n",
    "    \"outtmpl\": {\"default\": \"video.%(ext)s\"}\n",
    "}\n",
    "\n",
    "with yt_dlp.YoutubeDL({\n",
    "    \"format\": \"best\",\n",
    "    \"paths\": {\"home\": download_path},\n",
    "    \"outtmpl\": {\"default\": \"video.%(ext)s\"}\n",
    "}) as ydl:\n",
    "    ydl.download(video_url)\n",
    "\n",
    "with yt_dlp.YoutubeDL({\n",
    "    \"format\": \"bestaudio/best\",\n",
    "    \"paths\": {\"home\": download_path},\n",
    "    \"outtmpl\": {\"default\": \"audio.%(ext)s\"},\n",
    "    \"postprocessors\":[{\n",
    "        \"key\": \"FFmpegExtractAudio\",\n",
    "        \"preferredcodec\": \"wav\",\n",
    "        \"preferredquality\": \"16\"\n",
    "    }]\n",
    "}) as ydl:\n",
    "    ydl.download(video_url)\n"
   ]
  }
 ],
 "metadata": {
  "kernelspec": {
   "display_name": "venv",
   "language": "python",
   "name": "python3"
  },
  "language_info": {
   "codemirror_mode": {
    "name": "ipython",
    "version": 3
   },
   "file_extension": ".py",
   "mimetype": "text/x-python",
   "name": "python",
   "nbconvert_exporter": "python",
   "pygments_lexer": "ipython3",
   "version": "3.10.11"
  },
  "orig_nbformat": 4
 },
 "nbformat": 4,
 "nbformat_minor": 2
}
