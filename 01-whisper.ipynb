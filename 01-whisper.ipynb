{
 "cells": [
  {
   "attachments": {},
   "cell_type": "markdown",
   "metadata": {},
   "source": [
    "%pip install torch --index-url https://download.pytorch.org/whl/cu118\n",
    "\n",
    "%pip install torchvision --index-url https://download.pytorch.org/whl/cu118\n",
    "\n",
    "%pip install torchaudio --index-url https://download.pytorch.org/whl/cu118\n",
    "\n",
    "%pip install openai-whisper"
   ]
  },
  {
   "cell_type": "code",
   "execution_count": null,
   "metadata": {},
   "outputs": [],
   "source": [
    "import whisper\n",
    "import torch\n",
    "import json\n",
    "\n",
    "device = torch.device(\"cuda\" if torch.cuda.is_available() else \"cpu\")\n",
    "model = whisper.load_model(\"large-v2\", download_root=\"./downloads\", device=device)\n",
    "results = model.transcribe(\"./media/audio.wav\", word_timestamps=False)\n",
    "\n",
    "data = []\n",
    "\n",
    "for segment in results[\"segments\"]:\n",
    "    data.extend([{\n",
    "        \"seek\": segment[\"seek\"],\n",
    "        \"from\": round(segment[\"start\"]),\n",
    "        \"to\": round(segment[\"end\"]),\n",
    "        \"text\": segment[\"text\"]\n",
    "    }])\n",
    "\n",
    "with open(\"media/text.json\", \"w\", encoding=\"utf-8\") as json_file:\n",
    "    json.dump(data, json_file, indent=4,ensure_ascii=False)"
   ]
  }
 ],
 "metadata": {
  "kernelspec": {
   "display_name": "venv",
   "language": "python",
   "name": "python3"
  },
  "language_info": {
   "codemirror_mode": {
    "name": "ipython",
    "version": 3
   },
   "file_extension": ".py",
   "mimetype": "text/x-python",
   "name": "python",
   "nbconvert_exporter": "python",
   "pygments_lexer": "ipython3",
   "version": "3.10.11"
  },
  "orig_nbformat": 4
 },
 "nbformat": 4,
 "nbformat_minor": 2
}
